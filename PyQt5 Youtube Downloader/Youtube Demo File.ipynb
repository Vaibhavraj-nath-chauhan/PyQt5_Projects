{
 "cells": [
  {
   "cell_type": "code",
   "execution_count": 1,
   "metadata": {},
   "outputs": [],
   "source": [
    "from pytube import YouTube"
   ]
  },
  {
   "cell_type": "code",
   "execution_count": null,
   "metadata": {},
   "outputs": [],
   "source": [
    "https://www.youtube.com/watch?v=0Vq2RDNip5Q"
   ]
  },
  {
   "cell_type": "code",
   "execution_count": 30,
   "metadata": {},
   "outputs": [],
   "source": [
    "video = YouTube(\"https://www.youtube.com/watch?v=7eZDEI55ztE\")"
   ]
  },
  {
   "cell_type": "code",
   "execution_count": 17,
   "metadata": {},
   "outputs": [
    {
     "name": "stdout",
     "output_type": "stream",
     "text": [
      "These are the attributes of Selected url video\n",
      "\n",
      "Video Title: Namo Namo - Lyrical | Kedarnath | Sushant Rajput | Sara Ali Khan | Amit Trivedi | Amitabh B\n",
      "Publish Date: 2020-07-08 00:00:00\n",
      "Total Views: 54637372\n",
      "Rating: 4.8122501\n",
      "Length: 5 mins\n"
     ]
    }
   ],
   "source": [
    "print(\"These are the attributes of Selected url video\\n\")\n",
    "print(\"Video Title: \"+video.title)\n",
    "print(\"Publish Date: \"+str(video.publish_date))\n",
    "print(\"Total Views: \"+str(video.views))\n",
    "print(\"Rating: \"+str(video.rating))\n",
    "print(\"Length: \"+str(round(video.length/60))+\" mins\")"
   ]
  },
  {
   "cell_type": "code",
   "execution_count": 18,
   "metadata": {},
   "outputs": [
    {
     "name": "stdout",
     "output_type": "stream",
     "text": [
      "1. Audio\n",
      "2.Video\n",
      "1\n",
      "Do you wnat to download: Y or N -->y\n"
     ]
    }
   ],
   "source": [
    "k = input(\"1. Audio\\n2.Video\\n\")\n",
    "if k==\"2\":\n",
    "    k = (input(\"Do you wnat to download: Y or N -->\")).lower()\n",
    "    if k ==\"y\":\n",
    "        k = input(\"Resolution \\n1. 720p\\n2. 360p\\n\")\n",
    "        if k==\"1\":\n",
    "            i= video.streams.filter(type=\"video\",res=\"720p\")[0]\n",
    "            print(\"In Progres.....\")\n",
    "            i.download(\"Videos/youtube/\")\n",
    "            print(\"Done\")\n",
    "        elif k==\"2\":\n",
    "            i = video.streams.filter(type=\"video\",res=\"360p\")[0]\n",
    "            print(\"In Progres.....\")\n",
    "            i.download(\"Videos/youtube/\")\n",
    "            print(\"Done\")\n",
    "    else:\n",
    "        print(\"Something Went Wrong\")\n",
    "elif k ==\"1\":\n",
    "    k = (input(\"Do you wnat to download: Y or N -->\")).lower()\n",
    "    if k ==\"y\":\n",
    "        i = video.streams.filter(type=\"audio\")[0]\n",
    "        i.download(\"Videos/youtube/\")"
   ]
  },
  {
   "cell_type": "code",
   "execution_count": 31,
   "metadata": {},
   "outputs": [
    {
     "name": "stdout",
     "output_type": "stream",
     "text": [
      "(0, <Stream: itag=\"140\" mime_type=\"audio/mp4\" abr=\"128kbps\" acodec=\"mp4a.40.2\" progressive=\"False\" type=\"audio\">)\n",
      "(1, <Stream: itag=\"249\" mime_type=\"audio/webm\" abr=\"50kbps\" acodec=\"opus\" progressive=\"False\" type=\"audio\">)\n",
      "(2, <Stream: itag=\"250\" mime_type=\"audio/webm\" abr=\"70kbps\" acodec=\"opus\" progressive=\"False\" type=\"audio\">)\n",
      "(3, <Stream: itag=\"251\" mime_type=\"audio/webm\" abr=\"160kbps\" acodec=\"opus\" progressive=\"False\" type=\"audio\">)\n"
     ]
    }
   ],
   "source": [
    "for i in enumerate(video.streams.filter(type=\"audio\")):\n",
    "    print(i)"
   ]
  },
  {
   "cell_type": "code",
   "execution_count": null,
   "metadata": {},
   "outputs": [],
   "source": []
  }
 ],
 "metadata": {
  "kernelspec": {
   "display_name": "Python 3",
   "language": "python",
   "name": "python3"
  },
  "language_info": {
   "codemirror_mode": {
    "name": "ipython",
    "version": 3
   },
   "file_extension": ".py",
   "mimetype": "text/x-python",
   "name": "python",
   "nbconvert_exporter": "python",
   "pygments_lexer": "ipython3",
   "version": "3.7.6"
  }
 },
 "nbformat": 4,
 "nbformat_minor": 4
}

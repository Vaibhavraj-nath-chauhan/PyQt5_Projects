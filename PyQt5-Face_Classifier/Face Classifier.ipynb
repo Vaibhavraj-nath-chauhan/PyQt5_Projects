{
 "cells": [
  {
   "cell_type": "code",
   "execution_count": 1,
   "metadata": {},
   "outputs": [],
   "source": [
    "import mediapipe as mp\n",
    "import cv2\n",
    "import HandTrackingModule as htm\n",
    "import FaceDetectionModule as fdm\n",
    "import math\n",
    "class faceClassifier():\n",
    "    def __init__(self):\n",
    "        self.handDetector = htm.handDetector(detectionCon=0.7)\n",
    "        self.faceDetector = fdm.FaceDetector(minDetectionConfidance=0.7)\n",
    "    def detections(self,img,handLm,faceLm):\n",
    "        if handLm and faceLm:\n",
    "            fx,fy = handLm[8][1],handLm[8][-1]\n",
    "            for id,i in enumerate(faceLm[-1][-1]):\n",
    "                h,w,c = img.shape\n",
    "                cx,cy = int(w*i.x), int(h*i.y)\n",
    "                if math.hypot(fx-cx,fy-cy) <15:\n",
    "                    if id == 3:\n",
    "                        img[0:100,0:100] = cv2.imread(\"TestImages/lips.png\")\n",
    "                        cv2.rectangle(img, (400-5,285-30), (400+70,285+10), (255, 0, 0),cv2.FILLED)\n",
    "                        cv2.putText(img, \"Lips\", (400, 285), cv2.FONT_HERSHEY_SIMPLEX, 1, \n",
    "                     (0, 0, 255),  2)\n",
    "                    elif id == 2:\n",
    "                        img[0:100,0:100] = cv2.imread(\"TestImages/nose.png\")\n",
    "                        cv2.rectangle(img, (400-5,285-30), (400+70,285+10), (255, 0, 0),cv2.FILLED)\n",
    "                        cv2.putText(img, \"Nose\", (400, 285), cv2.FONT_HERSHEY_SIMPLEX, 1, \n",
    "                     (0, 0, 255),  2)\n",
    "                    elif id == 4 or id==5:\n",
    "                        img[0:100,0:100] = cv2.imread(\"TestImages/ear.png\")\n",
    "                        cv2.rectangle(img, (400-5,285-30), (400+70,285+10), (255, 0, 0),cv2.FILLED)\n",
    "                        cv2.putText(img, \"Ear\", (400, 285), cv2.FONT_HERSHEY_SIMPLEX, 1, \n",
    "                     (0, 0, 255),  2)\n",
    "                    elif id == 1 or id==0:\n",
    "                        img[0:100,0:100] = cv2.imread(\"TestImages/eye.png\")\n",
    "                        cv2.rectangle(img, (400-5,285-30), (400+70,285+10), (255, 0, 0),cv2.FILLED)\n",
    "                        cv2.putText(img, \"Eye\", (400, 285), cv2.FONT_HERSHEY_SIMPLEX, 1, \n",
    "                     (0, 0, 255),  2)\n",
    "\n",
    "        return img\n",
    "    def camera(self):\n",
    "        cam = cv2.VideoCapture(0)\n",
    "        while True:\n",
    "            temp, img = cam.read()\n",
    "            if temp:\n",
    "                imgRGB = cv2.cvtColor(img,cv2.COLOR_BGR2RGB)\n",
    "                img = self.handDetector.findHands(imgRGB,draw=0)\n",
    "                handLm = self.handDetector.findPosition(img,draw=0)\n",
    "                img,faceLm = self.faceDetector.findFaces(img,draw=0)\n",
    "                img = detections(img,handLm,faceLm)\n",
    "                img =  cv2.cvtColor(img,cv2.COLOR_RGB2BGR)\n",
    "                cv2.imshow(\"Face Classifier\",img)\n",
    "                if cv2.waitKey(1)==13:\n",
    "                    break\n",
    "        cam.release()\n",
    "        cv2.destroyAllWindows()\n",
    "        "
   ]
  },
  {
   "cell_type": "code",
   "execution_count": 2,
   "metadata": {},
   "outputs": [
    {
     "ename": "NameError",
     "evalue": "name 'detections' is not defined",
     "output_type": "error",
     "traceback": [
      "\u001b[1;31m---------------------------------------------------------------------------\u001b[0m",
      "\u001b[1;31mNameError\u001b[0m                                 Traceback (most recent call last)",
      "\u001b[1;32m<ipython-input-2-64eee0dac5c9>\u001b[0m in \u001b[0;36m<module>\u001b[1;34m\u001b[0m\n\u001b[0;32m      1\u001b[0m \u001b[0mcam\u001b[0m \u001b[1;33m=\u001b[0m \u001b[0mfaceClassifier\u001b[0m\u001b[1;33m(\u001b[0m\u001b[1;33m)\u001b[0m\u001b[1;33m\u001b[0m\u001b[1;33m\u001b[0m\u001b[0m\n\u001b[1;32m----> 2\u001b[1;33m \u001b[0mcam\u001b[0m\u001b[1;33m.\u001b[0m\u001b[0mcamera\u001b[0m\u001b[1;33m(\u001b[0m\u001b[1;33m)\u001b[0m\u001b[1;33m\u001b[0m\u001b[1;33m\u001b[0m\u001b[0m\n\u001b[0m",
      "\u001b[1;32m<ipython-input-1-28c7deaf4781>\u001b[0m in \u001b[0;36mcamera\u001b[1;34m(self)\u001b[0m\n\u001b[0;32m     46\u001b[0m                 \u001b[0mhandLm\u001b[0m \u001b[1;33m=\u001b[0m \u001b[0mself\u001b[0m\u001b[1;33m.\u001b[0m\u001b[0mhandDetector\u001b[0m\u001b[1;33m.\u001b[0m\u001b[0mfindPosition\u001b[0m\u001b[1;33m(\u001b[0m\u001b[0mimg\u001b[0m\u001b[1;33m,\u001b[0m\u001b[0mdraw\u001b[0m\u001b[1;33m=\u001b[0m\u001b[1;36m0\u001b[0m\u001b[1;33m)\u001b[0m\u001b[1;33m\u001b[0m\u001b[1;33m\u001b[0m\u001b[0m\n\u001b[0;32m     47\u001b[0m                 \u001b[0mimg\u001b[0m\u001b[1;33m,\u001b[0m\u001b[0mfaceLm\u001b[0m \u001b[1;33m=\u001b[0m \u001b[0mself\u001b[0m\u001b[1;33m.\u001b[0m\u001b[0mfaceDetector\u001b[0m\u001b[1;33m.\u001b[0m\u001b[0mfindFaces\u001b[0m\u001b[1;33m(\u001b[0m\u001b[0mimg\u001b[0m\u001b[1;33m,\u001b[0m\u001b[0mdraw\u001b[0m\u001b[1;33m=\u001b[0m\u001b[1;36m0\u001b[0m\u001b[1;33m)\u001b[0m\u001b[1;33m\u001b[0m\u001b[1;33m\u001b[0m\u001b[0m\n\u001b[1;32m---> 48\u001b[1;33m                 \u001b[0mimg\u001b[0m \u001b[1;33m=\u001b[0m \u001b[0mdetections\u001b[0m\u001b[1;33m(\u001b[0m\u001b[0mimg\u001b[0m\u001b[1;33m,\u001b[0m\u001b[0mhandLm\u001b[0m\u001b[1;33m,\u001b[0m\u001b[0mfaceLm\u001b[0m\u001b[1;33m)\u001b[0m\u001b[1;33m\u001b[0m\u001b[1;33m\u001b[0m\u001b[0m\n\u001b[0m\u001b[0;32m     49\u001b[0m                 \u001b[0mimg\u001b[0m \u001b[1;33m=\u001b[0m  \u001b[0mcv2\u001b[0m\u001b[1;33m.\u001b[0m\u001b[0mcvtColor\u001b[0m\u001b[1;33m(\u001b[0m\u001b[0mimg\u001b[0m\u001b[1;33m,\u001b[0m\u001b[0mcv2\u001b[0m\u001b[1;33m.\u001b[0m\u001b[0mCOLOR_RGB2BGR\u001b[0m\u001b[1;33m)\u001b[0m\u001b[1;33m\u001b[0m\u001b[1;33m\u001b[0m\u001b[0m\n\u001b[0;32m     50\u001b[0m                 \u001b[0mcv2\u001b[0m\u001b[1;33m.\u001b[0m\u001b[0mimshow\u001b[0m\u001b[1;33m(\u001b[0m\u001b[1;34m\"Face Classifier\"\u001b[0m\u001b[1;33m,\u001b[0m\u001b[0mimg\u001b[0m\u001b[1;33m)\u001b[0m\u001b[1;33m\u001b[0m\u001b[1;33m\u001b[0m\u001b[0m\n",
      "\u001b[1;31mNameError\u001b[0m: name 'detections' is not defined"
     ]
    }
   ],
   "source": [
    "cam = faceClassifier()\n",
    "cam.camera()"
   ]
  },
  {
   "cell_type": "code",
   "execution_count": 3,
   "metadata": {},
   "outputs": [
    {
     "ename": "NameError",
     "evalue": "name 'detections' is not defined",
     "output_type": "error",
     "traceback": [
      "\u001b[1;31m---------------------------------------------------------------------------\u001b[0m",
      "\u001b[1;31mNameError\u001b[0m                                 Traceback (most recent call last)",
      "\u001b[1;32m<ipython-input-3-4f22638c54a0>\u001b[0m in \u001b[0;36m<module>\u001b[1;34m\u001b[0m\n\u001b[0;32m      2\u001b[0m \u001b[1;32mfrom\u001b[0m \u001b[0mFaceClassifier\u001b[0m \u001b[1;32mimport\u001b[0m \u001b[0mfaceClassifier\u001b[0m\u001b[1;33m\u001b[0m\u001b[1;33m\u001b[0m\u001b[0m\n\u001b[0;32m      3\u001b[0m \u001b[0mcam\u001b[0m \u001b[1;33m=\u001b[0m \u001b[0mfaceClassifier\u001b[0m\u001b[1;33m(\u001b[0m\u001b[1;33m)\u001b[0m\u001b[1;33m\u001b[0m\u001b[1;33m\u001b[0m\u001b[0m\n\u001b[1;32m----> 4\u001b[1;33m \u001b[0mcam\u001b[0m\u001b[1;33m.\u001b[0m\u001b[0mcamera\u001b[0m\u001b[1;33m(\u001b[0m\u001b[1;33m)\u001b[0m\u001b[1;33m\u001b[0m\u001b[1;33m\u001b[0m\u001b[0m\n\u001b[0m",
      "\u001b[1;32m~\\Machine Learning Practice\\Open CV (Mediapipe)\\PyQt5-Face_Classifier\\FaceClassifier.py\u001b[0m in \u001b[0;36mcamera\u001b[1;34m(self)\u001b[0m\n\u001b[0;32m     52\u001b[0m                 \u001b[0mhandLm\u001b[0m \u001b[1;33m=\u001b[0m \u001b[0mself\u001b[0m\u001b[1;33m.\u001b[0m\u001b[0mhandDetector\u001b[0m\u001b[1;33m.\u001b[0m\u001b[0mfindPosition\u001b[0m\u001b[1;33m(\u001b[0m\u001b[0mimg\u001b[0m\u001b[1;33m,\u001b[0m\u001b[0mdraw\u001b[0m\u001b[1;33m=\u001b[0m\u001b[1;36m0\u001b[0m\u001b[1;33m)\u001b[0m\u001b[1;33m\u001b[0m\u001b[1;33m\u001b[0m\u001b[0m\n\u001b[0;32m     53\u001b[0m                 \u001b[0mimg\u001b[0m\u001b[1;33m,\u001b[0m\u001b[0mfaceLm\u001b[0m \u001b[1;33m=\u001b[0m \u001b[0mself\u001b[0m\u001b[1;33m.\u001b[0m\u001b[0mfaceDetector\u001b[0m\u001b[1;33m.\u001b[0m\u001b[0mfindFaces\u001b[0m\u001b[1;33m(\u001b[0m\u001b[0mimg\u001b[0m\u001b[1;33m,\u001b[0m\u001b[0mdraw\u001b[0m\u001b[1;33m=\u001b[0m\u001b[1;36m0\u001b[0m\u001b[1;33m)\u001b[0m\u001b[1;33m\u001b[0m\u001b[1;33m\u001b[0m\u001b[0m\n\u001b[1;32m---> 54\u001b[1;33m                 \u001b[0mimg\u001b[0m \u001b[1;33m=\u001b[0m \u001b[0mdetections\u001b[0m\u001b[1;33m(\u001b[0m\u001b[0mimg\u001b[0m\u001b[1;33m,\u001b[0m\u001b[0mhandLm\u001b[0m\u001b[1;33m,\u001b[0m\u001b[0mfaceLm\u001b[0m\u001b[1;33m)\u001b[0m\u001b[1;33m\u001b[0m\u001b[1;33m\u001b[0m\u001b[0m\n\u001b[0m\u001b[0;32m     55\u001b[0m                 \u001b[0mimg\u001b[0m \u001b[1;33m=\u001b[0m  \u001b[0mcv2\u001b[0m\u001b[1;33m.\u001b[0m\u001b[0mcvtColor\u001b[0m\u001b[1;33m(\u001b[0m\u001b[0mimg\u001b[0m\u001b[1;33m,\u001b[0m\u001b[0mcv2\u001b[0m\u001b[1;33m.\u001b[0m\u001b[0mCOLOR_RGB2BGR\u001b[0m\u001b[1;33m)\u001b[0m\u001b[1;33m\u001b[0m\u001b[1;33m\u001b[0m\u001b[0m\n\u001b[0;32m     56\u001b[0m                 \u001b[0mcv2\u001b[0m\u001b[1;33m.\u001b[0m\u001b[0mimshow\u001b[0m\u001b[1;33m(\u001b[0m\u001b[1;34m\"Face Classifier\"\u001b[0m\u001b[1;33m,\u001b[0m\u001b[0mimg\u001b[0m\u001b[1;33m)\u001b[0m\u001b[1;33m\u001b[0m\u001b[1;33m\u001b[0m\u001b[0m\n",
      "\u001b[1;31mNameError\u001b[0m: name 'detections' is not defined"
     ]
    }
   ],
   "source": [
    "#Testing\n",
    "from FaceClassifier import faceClassifier\n",
    "`"
   ]
  },
  {
   "cell_type": "code",
   "execution_count": null,
   "metadata": {},
   "outputs": [],
   "source": []
  }
 ],
 "metadata": {
  "kernelspec": {
   "display_name": "Python 3",
   "language": "python",
   "name": "python3"
  },
  "language_info": {
   "codemirror_mode": {
    "name": "ipython",
    "version": 3
   },
   "file_extension": ".py",
   "mimetype": "text/x-python",
   "name": "python",
   "nbconvert_exporter": "python",
   "pygments_lexer": "ipython3",
   "version": "3.7.6"
  }
 },
 "nbformat": 4,
 "nbformat_minor": 4
}
